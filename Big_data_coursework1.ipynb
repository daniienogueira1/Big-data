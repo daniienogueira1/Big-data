{
 "cells": [
  {
   "cell_type": "markdown",
   "id": "22dbc429",
   "metadata": {},
   "source": [
    "# Big Data Applications - Coursework 1"
   ]
  },
  {
   "cell_type": "markdown",
   "id": "515f8b48",
   "metadata": {},
   "source": [
    "#### Daniela Nogueira"
   ]
  },
  {
   "cell_type": "markdown",
   "id": "80ca6500",
   "metadata": {},
   "source": [
    "March, 2022"
   ]
  },
  {
   "cell_type": "markdown",
   "id": "251709c3",
   "metadata": {},
   "source": [
    "# Question 1"
   ]
  },
  {
   "cell_type": "markdown",
   "id": "371f6e5a",
   "metadata": {},
   "source": [
    "## Mapper"
   ]
  },
  {
   "cell_type": "markdown",
   "id": "86c5005e",
   "metadata": {},
   "source": [
    "For question 1, I'll create a mapper, whose output will be used as input for each reducer I'll develop to calculate the maximum, minimum, mean, median, and variance statistical metrics.\n"
   ]
  },
  {
   "cell_type": "markdown",
   "id": "4523f7bc",
   "metadata": {},
   "source": [
    "### Step 1\n",
    "\n",
    "For the creation of this mapper, I took the data of April, produced a tiny sample from it (which you can find in the txt file named  \"example_mapper.txt\" in the folder where this report is placed), and tested my  Python code in  Jupyter Notebook until I was pleased with the outcomes. As a result, I was able to fully understand each line of my code and double-check each line's output until I  got my final mapper."
   ]
  },
  {
   "cell_type": "markdown",
   "id": "b0bdf587",
   "metadata": {},
   "source": [
    "#### Example of what my mapper sees as input"
   ]
  },
  {
   "cell_type": "code",
   "execution_count": 1,
   "id": "acab5c39",
   "metadata": {},
   "outputs": [
    {
     "name": "stdout",
     "output_type": "stream",
     "text": [
      "['Wban Number, YearMonthDay, Time, Station Type, Maintenance Indicator, Sky Conditions, Visibility, Weather Type, Dry Bulb Temp, Dew Point Temp, Wet Bulb Temp, % Relative Humidity, Wind Speed (kt), Wind Direction, Wind Char. Gusts (kt), Val for Wind Char., Station Pressure, Pressure Tendency, Sea Level Pressure, Record Type, Precip. Total\\n', '03011,20070401,0050,AO2 ,-,SCT055                                       ,10SM   ,-,-,23,28,69  , 4   ,130,-,0  ,30.13,-,-,AA,-\\n', '03011,20070401,0150,AO2 ,-,BKN055                                       ,10SM   ,-,32,23,28,69  , 4   ,140,-,0  ,30.12,-,-,AA,-\\n', '03011,20070401,0250,AO2 ,-,OVC050                                       ,10SM   ,-,-,23,28,69  , 3   ,130,-,0  ,30.12,-,-,AA,-\\n', '03011,20070401,0350,AO2 ,-,OVC050                                       ,10SM   ,-,34,23,30,64  , 3   ,120,-,0  ,30.12,-,-,AA,-\\n', '03011,20070401,0450,AO2 ,-,BKN050                                       ,10SM   ,-,34,23,30,64  , 4   ,130,-,0  ,30.11,-,-,AA,-\\n', '03011,20070401,0550,AO2 ,-,SCT050 SCT070                                ,10SM   ,-,32,25,28,75  , 3   ,150,-,0  ,30.10,-,-,AA,-\\n', '03011,20070401,0650,AO2 ,-,SCT070                                       ,10SM   ,-,34,25,30,70  , 3   ,130,-,0  ,30.12,-,-,AA,-\\n', '03011,20070401,0750,AO2 ,-,CLR                                          ,10SM   ,-,-,27,34,67  , 4   ,140,-,0  ,30.12,-,-,AA,-\\n']\n"
     ]
    }
   ],
   "source": [
    "file = open(\"example_mapper.txt\",\"r\")\n",
    "file = file.readlines()\n",
    "print(file)"
   ]
  },
  {
   "cell_type": "markdown",
   "id": "21ceef23",
   "metadata": {},
   "source": [
    "### Pseudo code"
   ]
  },
  {
   "cell_type": "markdown",
   "id": "dc460c59",
   "metadata": {},
   "source": [
    "    Read the file \n",
    "\n",
    "    for each line in this file:\n",
    "    \n",
    "        Remove beginning and ending spaces then split a string into a list with comma \n",
    "        as separator\n",
    "   \n",
    "        If you find non-existent values represented by \"-\" or values equal \"Dry Bulb Temp\" \n",
    "        in the \"Dry Bulb Temp\" column:\n",
    "     \n",
    "            Ignore them and move to the next value/line\n",
    "        \n",
    "        else:\n",
    "    \n",
    "            The key \"day\" and value \"temp\" are equal to column \"YearMonthDay\" and column\n",
    "            \"Dry Bulb Temp\" respectively \n",
    "        \n",
    "            Print keys \"day\" and values \"temp\""
   ]
  },
  {
   "cell_type": "markdown",
   "id": "5f1b502b",
   "metadata": {},
   "source": [
    "### Python code"
   ]
  },
  {
   "cell_type": "code",
   "execution_count": 2,
   "id": "7c9f7757",
   "metadata": {},
   "outputs": [],
   "source": [
    "#! /usr/bin/env python3\n",
    "import sys\n",
    "\n",
    "for line in sys.stdin:\n",
    "    val = line.strip().split(\",\")\n",
    "    if (val[8] == \"-\") or (val[8].strip() == \"Dry Bulb Temp\"): \n",
    "        continue\n",
    "    else:\n",
    "        (day, temp) = (val[1], val[8])\n",
    "        print (\"%s\\t%s\" % (day, temp))"
   ]
  },
  {
   "cell_type": "markdown",
   "id": "79837037",
   "metadata": {},
   "source": [
    "#### Lines explanation\n",
    "\n",
    "- if (val[8] == \"-\") or (val[8].strip() == \"Dry Bulb Temp\"):\n",
    "\n",
    "    continue\n",
    "\n",
    "When looking at my file, I realised that there is some non-existent values represented by \"-\" in my columns and that I would need to remove headers \"Dry Bulb Temp\" and \"YearMonthDay\" from my output values so I set this condition.\n",
    "\n"
   ]
  },
  {
   "cell_type": "markdown",
   "id": "68c428b5",
   "metadata": {},
   "source": [
    "## Step 2\n",
    "\n",
    "After I've developed my python code for the mapper using a tiny sample from my original file \"200704hourly.txt\", I need to test this mapper in my Terminal/Headnote for my entire dataset \"200704hourly.txt\". \n",
    "\n",
    "#### For that I follow some steps:\n",
    "\n",
    "1. Download data \"200704hourly.txt\" from VLE to my local machine/computer\n",
    "2. Open two terminals: one for local computer, one for headnote (dsm1)\n",
    "2. Tranfer the file \"200704hourly.txt\" to my headnote \n",
    "3. Create a diretory on my headnote to have my file \"200704hourly.txt\",  my mapper.py and all my future reducers\n",
    "4. Run my mapper.py on my file\n",
    "\n",
    "#### Code done on both terminals, Local machine and Headnote:\n",
    "\n",
    "1. #### To access the folder which has the file \"200704hourly.txt\" - Local machine \n",
    "\n",
    "cd path\n",
    "\n",
    "2. #### To log in - Headnote \n",
    "\n",
    "ssh username@dsm1.doc.gold.ac.uk\n",
    "\n",
    "3. #### To create directory - Headnote \n",
    "\n",
    "mkdir coursework_1\n",
    "\n",
    "4. #### Move to this directory - Headnote\n",
    "\n",
    "cd coursework_1\n",
    "\n",
    "5. #### To tranfers my \"200704hourly.txt\" file from local machine to Headnote -  Local machine\n",
    "\n",
    "scp  200704hourly.txt  <username>dsm1.doc.gold.ac.uk:coursework_1/ \n",
    "\n",
    "6. #### To create a file for my mapper -  Headnote\n",
    "\n",
    "touch mapper.py\n",
    "\n",
    "7. #### To edit the file - Headnote \n",
    "\n",
    "nano mapper.py  \n",
    "\n",
    "8. #### To give my python scripts the executable permission - Headnote\n",
    "\n",
    "chmod +x mapper.py\n",
    "\n",
    "9. #### To run my mapper.py on my file and sort the output - Headnote\n",
    "\n",
    "cat 200704hourly.txt | ./mapper.py | sort\n",
    "\n",
    "##### Note : In step 7, I copy my Python code which is above ( \"Python code\" ) into it. "
   ]
  },
  {
   "cell_type": "markdown",
   "id": "ec12dd56",
   "metadata": {},
   "source": [
    "## Reducers "
   ]
  },
  {
   "cell_type": "markdown",
   "id": "690a677d",
   "metadata": {},
   "source": [
    "To build my reducers, I also created a tiny sample example of the output of my mapper (txt file named \"example_reducer.txt\" in the folder where this report is placed), sorted, which will be the input of my reducers. As I did for my mapper code, I tested my code in the jupyter notebook on my sample until I reached the final reducer for all that I will create: maximum, minimum, average, median and variance."
   ]
  },
  {
   "cell_type": "markdown",
   "id": "96c38ae2",
   "metadata": {},
   "source": [
    "#### Example of what all my reducers will sees as input"
   ]
  },
  {
   "cell_type": "code",
   "execution_count": 3,
   "id": "2c0cf4e1",
   "metadata": {},
   "outputs": [
    {
     "name": "stdout",
     "output_type": "stream",
     "text": [
      "['20070401\\t11\\n', '20070401\\t12\\n', '20070401\\t12\\n', '20070401\\t13\\n', '20070401\\t14\\n', '20070402\\t21\\n', '20070402\\t25\\n', '20070402\\t35\\n', '20070402\\t36\\n', '20070403\\t67\\n', '20070403\\t68\\n', '20070403\\t79\\n']\n"
     ]
    }
   ],
   "source": [
    "file = open(\"example_reducer.txt\",\"r\")\n",
    "file = file.readlines()\n",
    "print(file)"
   ]
  },
  {
   "cell_type": "markdown",
   "id": "d5224460",
   "metadata": {},
   "source": [
    "### Maximum "
   ]
  },
  {
   "cell_type": "markdown",
   "id": "b67efedf",
   "metadata": {},
   "source": [
    "### Step 1"
   ]
  },
  {
   "cell_type": "markdown",
   "id": "1e9960bb",
   "metadata": {},
   "source": [
    "#### Pseudo code\n"
   ]
  },
  {
   "cell_type": "markdown",
   "id": "9afb4cdd",
   "metadata": {},
   "source": [
    "    Read the file \n",
    "    \n",
    "    Initialise your key variable \"last_key\" = None\n",
    "    Initialise your value variable \"max_val\" = 0\n",
    "\n",
    "    Start loop, for each line in this file:\n",
    "    \n",
    "        Initialise \"key\" and \"val\" variables = remove beginning and ending spaces then \n",
    "        split a string into a list with tab as separator\n",
    "   \n",
    "        If \"last_key\" and \"last_key\" differs from current \"key\":\n",
    "            \n",
    "            First, print current \"last_key\" and \"max_val\"\n",
    "            \n",
    "            Update \"last_key\" and \"max_value\" with currrent \"key\" and the integer of \"val\"    \n",
    "            variable, respectively \n",
    "            \n",
    "        else:\n",
    "            \n",
    "            Update \"last_key\" and \"max_value\" with currrent \"key\" and the maximum between   \n",
    "            current \"max_val\" and integer of \"val\" variable, respectively \n",
    "        \n",
    "    If \"last_key\":\n",
    "            Print keys \"last_key\" and values \"max_val\""
   ]
  },
  {
   "cell_type": "markdown",
   "id": "f9e7ed7b",
   "metadata": {},
   "source": [
    "####  Python code"
   ]
  },
  {
   "cell_type": "code",
   "execution_count": 4,
   "id": "3c264bc1",
   "metadata": {},
   "outputs": [],
   "source": [
    "#! /usr/bin/env python3\n",
    "import sys\n",
    "\n",
    "(last_key, max_val) = (None, 0)\n",
    "\n",
    "for line in sys.stdin:\n",
    "    (key, val) = line.strip().split(\"\\t\")\n",
    "    if last_key and last_key != key:\n",
    "        print (\"%s\\t%s\" % (last_key, max_val))\n",
    "        (last_key, max_val) = (key, int(val))\n",
    "    else:\n",
    "        (last_key, max_val) = (key, max(max_val, int(val)))\n",
    "if last_key:\n",
    "    print (\"%s\\t%s\" % (last_key, max_val))\n"
   ]
  },
  {
   "cell_type": "markdown",
   "id": "fc60943c",
   "metadata": {},
   "source": [
    "#### Lines explanation\n",
    "\n",
    "When writing this code, I kept in mind that in the mapping process, same keys are grouped together and in a sequential order, such as \"AAAAABBBB\", so when my for loop stops seing one key, for example, \"A\", it will never see this key again. In addition, I took into account that the command \"cat 200704hourly.txt |./mapper.py | sort\" sorts all data before sending them to the reducer, which is a crucial detail for the median calculation I'll be doing later. \n"
   ]
  },
  {
   "cell_type": "markdown",
   "id": "a609759b",
   "metadata": {},
   "source": [
    "### Step 2 \n",
    "\n",
    "##### Note: this step 2 will be equal  for all measurements that follow ( minimum, mean, median and variance ), the only difference will be the name of the reducer (reducer_min.py, for example)."
   ]
  },
  {
   "cell_type": "markdown",
   "id": "b2d326aa",
   "metadata": {},
   "source": [
    "#### Code done on Headnote:\n",
    "\n",
    "1. #### To Move into coursework_1  directory - Headnote\n",
    "\n",
    "cd coursework_1\n",
    "\n",
    "2. #### To create a file for my reducer -  Headnote\n",
    "\n",
    "touch reducer_max.py\n",
    "\n",
    "3. #### To edit my file - Headnote \n",
    "\n",
    "nano reducer_max.py  \n",
    "\n",
    "4. #### To give my python scripts the executable permission - Headnote\n",
    "\n",
    "chmod +x mapper.py reducer_max.py \n",
    "\n",
    "5. #### To run my mapper.py and reducer on my file and sort the output - Headnote\n",
    "\n",
    "cat 200704hourly.txt | ./mapper.py | sort | ./reducer_max.py\n",
    "\n",
    "##### Note : In step 3, I copy my Python code which is above ( \"Python code\" ) into it. "
   ]
  },
  {
   "cell_type": "markdown",
   "id": "96dd058c",
   "metadata": {},
   "source": [
    "### Minimum "
   ]
  },
  {
   "cell_type": "markdown",
   "id": "d8406cee",
   "metadata": {},
   "source": [
    "#### Pseudo code"
   ]
  },
  {
   "cell_type": "markdown",
   "id": "b0b54eeb",
   "metadata": {},
   "source": [
    "    Read the file \n",
    "    \n",
    "    Initialise your key variable \"last_key\" = None\n",
    "    Initialise your value variable \"min_val\" = 200\n",
    "\n",
    "    Start loop, for each line in this file:\n",
    "    \n",
    "        Initialise \"key\" and \"val\" variables = remove beginning and ending spaces then \n",
    "        split a string into a list with tab as separator\n",
    "   \n",
    "        If \"last_key\" and \"last_key\" differs from current \"key\":\n",
    "            \n",
    "            First, print current \"last_key\" and \"min_val\"\n",
    "            \n",
    "            Update \"last_key\" and \"min_value\" with currrent \"key\" and the integer of \"val\"    \n",
    "            variable, respectively \n",
    "            \n",
    "        else:\n",
    "            \n",
    "            Update \"last_key\" and \"min_value\" with currrent \"key\" and the minimum between   \n",
    "            current \"min_val\" and integer of \"val\" variable, respectively \n",
    "        \n",
    "    If \"last_key\":\n",
    "            Print keys \"last_key\" and values \"min_val\""
   ]
  },
  {
   "cell_type": "markdown",
   "id": "f2ad30a8",
   "metadata": {},
   "source": [
    "#### Python code"
   ]
  },
  {
   "cell_type": "code",
   "execution_count": 5,
   "id": "08ef9719",
   "metadata": {},
   "outputs": [],
   "source": [
    "#! /usr/bin/env python3\n",
    "import sys\n",
    "\n",
    "(last_key, min_val) = (None, 200)\n",
    "\n",
    "for line in sys.stdin:\n",
    "    (key, val) = line.strip().split(\"\\t\")\n",
    "    if last_key and last_key != key:\n",
    "        print (\"%s\\t%s\" % (last_key, min_val))\n",
    "        (last_key, min_val) = (key, int(val))\n",
    "    else:\n",
    "        (last_key, min_val) = (key, min(min_val, int(val)))\n",
    "if last_key:\n",
    "    print (\"%s\\t%s\" % (last_key, min_val))\n"
   ]
  },
  {
   "cell_type": "markdown",
   "id": "4e240f50",
   "metadata": {},
   "source": [
    "### Mean "
   ]
  },
  {
   "cell_type": "markdown",
   "id": "45cc76e0",
   "metadata": {},
   "source": [
    "#### Pseudo code"
   ]
  },
  {
   "cell_type": "markdown",
   "id": "393fa628",
   "metadata": {},
   "source": [
    "    Read the file \n",
    "    \n",
    "    Initialise your key variable \"last_key\" = None\n",
    "    Initialise your value variable \"mean\" = 0\n",
    "    Initialise a variable for total number of Observations \"count\" = 0\n",
    "    Initialise a variable for sum of Observations  \"soma\" = 0\n",
    "\n",
    "    For each line in this file:\n",
    "    \n",
    "        Initialise \"key\" and \"val\" variables = remove beginning and ending spaces then \n",
    "        split a string into a list with tab as separator\n",
    "   \n",
    "        If \"last_key\" and \"last_key\" differs from current \"key\":\n",
    "            \n",
    "            Print current \"last_key\" and \"mean\"\n",
    "            \n",
    "            Reset \"count\" to zero\n",
    "           \n",
    "            Reset \"soma\" to zero\n",
    "            \n",
    "            Update \"last_key\" and \"mean\" with currrent \"key\" and the float of \"val\"    \n",
    "            variable, respectively \n",
    "            \n",
    "            Increment \"count\"\n",
    "            \n",
    "            Add current \"val\" to \"soma\"\n",
    "            \n",
    "        else:\n",
    "            \n",
    "            Increment \"count\"\n",
    "            \n",
    "            Add current \"val\" to \"soma\"\n",
    "            \n",
    "            Update \"last_key\" and \"mean\" with currrent \"key\" and the rounded value \n",
    "            resulting from dividing \"soma\" by \"count\", respectively \n",
    "        \n",
    "    If \"last_key\":\n",
    "            Print keys \"last_key\" and values \"mean\""
   ]
  },
  {
   "cell_type": "markdown",
   "id": "b5ee81d2",
   "metadata": {},
   "source": [
    "#### Python code "
   ]
  },
  {
   "cell_type": "code",
   "execution_count": 6,
   "id": "7bce068e",
   "metadata": {},
   "outputs": [],
   "source": [
    "#! /usr/bin/env python3\n",
    "import sys\n",
    "\n",
    "\n",
    "(last_key, mean) = (None, 0)\n",
    "count = 0\n",
    "soma = 0\n",
    "\n",
    "for line in sys.stdin:\n",
    "    (key, val) = line.strip().split(\"\\t\")\n",
    "    if last_key and last_key != key:\n",
    "        print (\"%s\\t%s\" % (last_key, mean))\n",
    "        count = 0\n",
    "        soma = 0\n",
    "        (last_key, mean) = (key, float(val))\n",
    "        count += 1\n",
    "        soma  += int(val)\n",
    "    else:\n",
    "        count += 1 \n",
    "        soma += int(val)\n",
    "        (last_key, mean) = (key, round(float(soma/count),2))\n",
    "\n",
    "if last_key:\n",
    "    print (\"%s\\t%s\" % (last_key, mean))"
   ]
  },
  {
   "cell_type": "markdown",
   "id": "d351be75",
   "metadata": {},
   "source": [
    "### Median "
   ]
  },
  {
   "cell_type": "markdown",
   "id": "1fa3e834",
   "metadata": {},
   "source": [
    "#### Pseudo code"
   ]
  },
  {
   "cell_type": "markdown",
   "id": "a26ac027",
   "metadata": {},
   "source": [
    "    Read the file \n",
    "    \n",
    "    Initialise your key variable \"last_key\" = None\n",
    "    \n",
    "    Initialise your value variable \"median\" = 0\n",
    "    \n",
    "    Create and empty list named, for example, \"lista\", in order for you to be able to store \n",
    "    the values of each key and be able to access them  by their position in  \n",
    "    the that list\n",
    "    \n",
    "\n",
    "    For each line in this file:\n",
    "    \n",
    "        Initialise \"key\" and \"val\" variables = remove beginning and ending spaces then \n",
    "        split a string into a list with tab as separator\n",
    "   \n",
    "        If \"last_key\" and \"last_key\" differs from current \"key\":\n",
    "            \n",
    "            Print current \"last_key\" and \"median\"\n",
    "            \n",
    "            Reset \"lista\" to an empty list\n",
    "            \n",
    "            Update \"last_key\" and \"median\" with currrent \"key\" and the integer of \"val\"    \n",
    "            variable, respectively \n",
    "            \n",
    "            Append the current \"val\" to your list\n",
    "            \n",
    "        else:\n",
    "            \n",
    "            Append the current \"val\" to your list\n",
    "            \n",
    "            Create a condition for when number of elements belonging to a key is even:\n",
    "               \n",
    "                 Update \"last_key\" and \"median\" with currrent \"key\" and the value \n",
    "                 resulting from dividing the two middle numbers in the sorted \"lista\" \n",
    "                 by 2, respectively\n",
    "             \n",
    "            else:\n",
    "              \n",
    "                 Update \"last_key\" and \"median\" with currrent \"key\" and the middle number \n",
    "                 in the sorted \"lista\", respectively    \n",
    "          \n",
    "          \n",
    "    If \"last_key\":\n",
    "            Print keys \"last_key\" and values \"median\""
   ]
  },
  {
   "cell_type": "markdown",
   "id": "e803b356",
   "metadata": {},
   "source": [
    "#### Python code"
   ]
  },
  {
   "cell_type": "code",
   "execution_count": 7,
   "id": "fa7f05c5",
   "metadata": {},
   "outputs": [],
   "source": [
    "#! /usr/bin/env python3\n",
    "import sys\n",
    "\n",
    "(last_key, median) = (None, 0)\n",
    "lista=[]\n",
    "\n",
    "for line in sys.stdin:\n",
    "    (key, val) = line.strip().split(\"\\t\")\n",
    "    if last_key and last_key != key:\n",
    "        print (\"%s\\t%s\" % (last_key, median))\n",
    "        lista=[]\n",
    "        (last_key, median) = (key, int(val))\n",
    "        lista.append(int(val))\n",
    "    else:\n",
    "        lista.append(int(val))\n",
    "        if (len(lista)%2)==0:            \n",
    "            (last_key, median) = (key, (((lista[int(len(lista)/2)])+(lista[int(len(lista)/2)-1]))/2))\n",
    "        else:\n",
    "            (last_key, median) = (key,lista[int(len(lista)/2)])                               \n",
    "                              \n",
    "if last_key:\n",
    "    print (\"%s\\t%s\" % (last_key, median))\n",
    "\n",
    "    "
   ]
  },
  {
   "cell_type": "markdown",
   "id": "3d802514",
   "metadata": {},
   "source": [
    "### Variance \n"
   ]
  },
  {
   "cell_type": "markdown",
   "id": "45e47fc1",
   "metadata": {},
   "source": [
    "#### Pseudo code"
   ]
  },
  {
   "cell_type": "markdown",
   "id": "f0bd2f53",
   "metadata": {},
   "source": [
    "    Read the file \n",
    "    \n",
    "    Initialise your key variable \"last_key\" = None\n",
    "    Initialise your value variable \"variance\" = 0\n",
    "    Initialise a variable for total number of Observations \"count\" = 0\n",
    "    Initialise a variable for sum of Observations  \"soma\" = 0\n",
    "    Initialise a variable \"mean\" = 0\n",
    "    initialise a variable \"squared\" = 0\n",
    "\n",
    "    For each line in this file:\n",
    "    \n",
    "        Initialise \"key\" and \"val\" variables = remove beginning and ending spaces then \n",
    "        split a string into a list with tab as separator\n",
    "   \n",
    "        If \"last_key\" and \"last_key\" differs from current \"key\":\n",
    "            \n",
    "            Print current \"last_key\" and \"variance\"\n",
    "            \n",
    "            Reset \"count\" to zero\n",
    "            \n",
    "            Reset \"soma\" to zero\n",
    "            \n",
    "            Reset \"mean\" to zero\n",
    "            \n",
    "            Reset \"squared\" to zero \n",
    "            \n",
    "            Update \"last_key\" and \"variance\" with currrent \"key\" and the float of \"val\"    \n",
    "            variable, respectively \n",
    "            \n",
    "            Increment \"count\"\n",
    "            \n",
    "            Add current \"val\" to \"soma\"\n",
    "            \n",
    "            Add the value resulting from current \"val\" multiplied by itself to \"squared\"\n",
    "            \n",
    "            Equal the variable \"mean\" the float value resulting resulting from dividing\n",
    "            \"soma\" by \"count\"\n",
    "            \n",
    "        else:\n",
    "            \n",
    "            Increment \"count\"\n",
    "            \n",
    "            Add current \"val\" to \"soma\"\n",
    "            \n",
    "            Add to the variable \"squared\" the value resulting from current \"val\" multiplied \n",
    "            by itself \n",
    "            \n",
    "            Equal the variable \"mean\" the float value resulting resulting from dividing \n",
    "            \"soma\" by \"count\"\n",
    "            \n",
    "            Update \"last_key\" and \"variance\" with currrent \"key\" and the sum of the squared \n",
    "            differences between each data point and the mean divided by the number of data\n",
    "            values, respectively \n",
    "        \n",
    "    If \"last_key\":\n",
    "            Print keys \"last_key\" and values \"variance\""
   ]
  },
  {
   "cell_type": "markdown",
   "id": "79f7e471",
   "metadata": {},
   "source": [
    "#### Python code"
   ]
  },
  {
   "cell_type": "code",
   "execution_count": 8,
   "id": "6b18498a",
   "metadata": {},
   "outputs": [],
   "source": [
    "#! /usr/bin/env python3\n",
    "import sys\n",
    "\n",
    "(last_key, variance) = (None, 0)\n",
    "count = 0\n",
    "soma = 0\n",
    "mean =0\n",
    "squared = 0\n",
    "\n",
    "for line in sys.stdin:\n",
    "    (key, val) = line.strip().split(\"\\t\")\n",
    "    if last_key and last_key != key:\n",
    "        print (\"%s\\t%s\" % (last_key, variance))\n",
    "        count = 0\n",
    "        soma = 0\n",
    "        mean = 0\n",
    "        squared = 0\n",
    "        (last_key, variance) = (key, float(val))\n",
    "        count += 1\n",
    "        soma  += int(val)\n",
    "        squared += int(val)**2\n",
    "        mean = float(soma/count)\n",
    "    else:\n",
    "        count += 1 \n",
    "        soma += int(val)\n",
    "        squared += int(val)**2\n",
    "        mean = float(soma/count)\n",
    "        \n",
    "        (last_key, variance) = (key, round((squared-count*mean**2)/count,2))\n",
    "\n",
    "if last_key:\n",
    "    print (\"%s\\t%s\" % (last_key, variance))\n"
   ]
  },
  {
   "cell_type": "markdown",
   "id": "9892c0e9",
   "metadata": {},
   "source": [
    "### Hadoop infrastructure\n"
   ]
  },
  {
   "cell_type": "markdown",
   "id": "eca901e1",
   "metadata": {},
   "source": [
    "When using Hadoop, we are mainly saying \"do this job using multiple nodes/computers\"."
   ]
  },
  {
   "cell_type": "markdown",
   "id": "6caef780",
   "metadata": {},
   "source": [
    "#### If we want to run our mapper and reducers using the hadoop infrastructure, we need to follow this steps:\n",
    "\n",
    "##### Note: these steps will be equal  for all reducers that follow ( minimum, mean, median and variance ), the only difference will be the name of the reducer (reducer_min.py, for example).\n",
    "\n",
    "1. #### Log in - Headnote\n",
    "\n",
    "ssh username@dsm1.doc.gold.ac.uk\n",
    "\n",
    "2. #### Go to coursework_1 directory\n",
    "\n",
    "cd coursework_1\n",
    "\n",
    "2. #### Copy 200704hourly.txt file from Headnote filesystem to HDFS\n",
    "\n",
    "hadoop fs -copyFromLocal 200704hourly.txt .\n",
    "\n",
    "3. #### MapReduce in Python with Hadoop Streaming \n",
    "\n",
    "hadoop jar /usr/local/hadoop-2.6.0/share/hadoop/tools/lib/hadoop-streaming-2.6.0.jar \\\n",
    "  -file mapper.py -mapper mapper.py \\\n",
    "  -file reducer_max.py -reducer reducer.py \\\n",
    "  -input 200704hourly.txt -output output\n",
    "  \n",
    "5. #### Get output and tranfer it from HDFS to Headnote\n",
    "\n",
    "hadoop fs -copyToLocal output\n",
    "\n",
    "6. #### Open another terminal (Local machine) and get output file and tranfer it from Headnote to local machine\n",
    "\n",
    "scp -r username@dsm1.doc.gold.ac.uk:coursework_1/output/  max_output\n"
   ]
  },
  {
   "cell_type": "markdown",
   "id": "7aaf7988",
   "metadata": {},
   "source": [
    "# Question 2"
   ]
  },
  {
   "cell_type": "markdown",
   "id": "f4e46067",
   "metadata": {},
   "source": [
    "### STEP 1"
   ]
  },
  {
   "cell_type": "markdown",
   "id": "6978bee3",
   "metadata": {},
   "source": [
    "### Code done on Terminal\n",
    "\n",
    "#### Part 1: Getting data\n",
    "\n",
    "1. #### Log in to dsm1 \n",
    "\n",
    "ssh username@dsm1.doc.gold.ac.uk\n",
    "\n",
    "2. #### Create a directory for question 2\n",
    "\n",
    "mkdir ./docs\n",
    "\n",
    "3. #### Download our text data  \n",
    "\n",
    "wget http://www.doc.gold.ac.uk/~agero001/data_science/lab_data/western_classics.zip\n",
    "\n",
    "4. #### Uncompress the data\n",
    "\n",
    "unzip western_classics.zip \n",
    "\n",
    "5. #### Copy all the files in the western_classics/british-fiction-corpus/ directory into the docs/ directory\n",
    "\n",
    "cp ./western_classics/british-fiction-corpus/* ./docs/ \n",
    "\n",
    "6. #### Tranfer the docs directory from the headnote to hadoop\n",
    "\n",
    "hadoop fs -copyFromLocal ./docs \n",
    "\n",
    "\n",
    "#### Part 2: Mahout\n",
    "\n",
    "1. #### Create sequence files from the raw text using Mahout\n",
    "\n",
    "mahout seqdirectory -i docs -o docs-seqfiles -c UTF-8 -chunk 5 \n",
    "\n",
    "2. #### Create a sparse (efficient) representation of the vectors using Mahout\n",
    "\n",
    "mahout seq2sparse -nv -i docs-seqfiles -o docs-vectors\n",
    "\n",
    "3. #### Generate “canopies”, which will help approximate centroids for K-Means\n",
    "\n",
    "mahout canopy -i docs-vectors/tfidf-vectors -ow -o docs-vectors/docs-canopy-centroids -dm org.apache.mahout.common.distance.CosineDistanceMeasure -t1 0.5 -t2 0.3\n",
    "\n",
    "4. #### Run the K-Means algorithm with Mahout\n",
    "\n",
    "mahout kmeans -i docs-vectors/tfidf-vectors -c docs-canopy-centroids -o docs-kmeans-clusters -dm org.apache.mahout.common.distance.CosineDistanceMeasure -cl -cd 0.1 -ow -x 20 -k 3\n",
    "\n",
    "5. #### Look to find the ‘final’ iteration’s clustering solution\n",
    "\n",
    "hadoop fs -ls docs-kmeans-clusters\n",
    "\n",
    "6. #### Evaluate solution\n",
    "\n",
    "mahout clusterdump -dt sequencefile -d docs-vectors/dictionary.file-* -i docs-kmeans-clusters/clusters-2-final -o clusters.txt -b 100 -p docs-kmeans-clusters/clusteredPoints -n 20 --evaluate\n",
    "\n",
    "7. #### Look at the end of the clusters.txt file \n",
    "\n",
    "tail ./clusters.txt"
   ]
  },
  {
   "cell_type": "markdown",
   "id": "f476bc15",
   "metadata": {},
   "source": [
    "As the coursework demands, I'll need to change the value of k, which is the number of clusters, as well as the distance measurements and loose and tight distances (t1 and t2). In my terminal code, I applied some adjustments in stages 3, 4, 6 (part 2)  to do this. For this exercise, I'll test two distance measures: Cosine and Euclidean, for values of k = [3,5,7,10,12,15,18,20]. I chose t1 = 0.5 and t2 = 0.3  for Cosine distance, and t1 = 2000 and t2 = 1500 for Euclidean distance."
   ]
  },
  {
   "cell_type": "markdown",
   "id": "69f6c4de",
   "metadata": {},
   "source": [
    "### STEP 2: Output and graphs"
   ]
  },
  {
   "cell_type": "markdown",
   "id": "64c46cea",
   "metadata": {},
   "source": [
    "Clustering is the partition of all data into groups, usually referred to as clusters, based on data patterns. We want the distance between points within a cluster (intra cluster distance) to be as small as possible because we want them to be as similar as possible. When the distance between the centroid of a cluster and its points is small, it means the points are close together and the cluster is dense. Different clusters, on the other hand, should be as distinct as possible from one another. The distance between the centroids of two separate clusters is known as inter cluster distance.\n",
    "\n",
    "Inter-cluster density is defined as the density in the between-cluster areas, so the higher the better. In contrast, the smaller the intra-cluster density the better.\n",
    "\n",
    "K-means is a distance-based technique in which the distances between points are calculated to allocate a point to a cluster. Each cluster in K-Means is paired with a centroid. Due to its relative ease of implementation and ability to scale well to very big datasets, k-means is one of the most common clustering methods. Because k-means is stochastic, it cannot guarantee the discovery of the global optimum clustering solution. In fact, outliers and noisy data can make the method extremely sensitive, and the ultimate clustering quality can be heavily influenced by the location of the initial cluster centroids. To put it another way, k-means is more likely to find a local minimum than a global one. Even if the original cluster centroids are well-placed, if clusters are not roughly equal in size and density, non-optimal clustering may result."
   ]
  },
  {
   "cell_type": "markdown",
   "id": "90e07d7e",
   "metadata": {},
   "source": [
    "#### Output Cosine Distance"
   ]
  },
  {
   "cell_type": "code",
   "execution_count": 9,
   "id": "5ccdb0fe",
   "metadata": {},
   "outputs": [],
   "source": [
    "k = [3,5,7,10,12,15,18]\n",
    "\n",
    "Inter_Cluster_Density = [0.4451541533194988, 0.49600669221521704, 0.38408398901491614, 0.44024282086510436, 0.30294968661751115, 0.2806005998602275, 0.2806005998602275]\n",
    "\n",
    "Intra_Cluster_Density = [0.571138465446429, 0.5544161655101385, 0.5854214453055803, 0.5352731664030042, 0.5550501341933015, 0.5238968941109691, 0.5238968941109691]\n"
   ]
  },
  {
   "cell_type": "code",
   "execution_count": 10,
   "id": "fd909933",
   "metadata": {},
   "outputs": [
    {
     "name": "stdout",
     "output_type": "stream",
     "text": [
      "[0.4452, 0.496, 0.3841, 0.4402, 0.3029, 0.2806, 0.2806]\n",
      "[0.5711, 0.5544, 0.5854, 0.5353, 0.5551, 0.5239, 0.5239]\n"
     ]
    }
   ],
   "source": [
    "Inter_Cluster_Density  = [round(num,4) for num in Inter_Cluster_Density]\n",
    "\n",
    "Intra_Cluster_Density  = [round(num,4) for num in Intra_Cluster_Density]\n",
    "\n",
    "print(Inter_Cluster_Density)\n",
    "print(Intra_Cluster_Density)\n"
   ]
  },
  {
   "cell_type": "code",
   "execution_count": 11,
   "id": "60d07126",
   "metadata": {},
   "outputs": [
    {
     "data": {
      "text/html": [
       "<div>\n",
       "<style scoped>\n",
       "    .dataframe tbody tr th:only-of-type {\n",
       "        vertical-align: middle;\n",
       "    }\n",
       "\n",
       "    .dataframe tbody tr th {\n",
       "        vertical-align: top;\n",
       "    }\n",
       "\n",
       "    .dataframe thead th {\n",
       "        text-align: right;\n",
       "    }\n",
       "</style>\n",
       "<table border=\"1\" class=\"dataframe\">\n",
       "  <thead>\n",
       "    <tr style=\"text-align: right;\">\n",
       "      <th></th>\n",
       "      <th>K</th>\n",
       "      <th>Inter Cluster Density</th>\n",
       "      <th>Intra Cluster Density</th>\n",
       "    </tr>\n",
       "  </thead>\n",
       "  <tbody>\n",
       "    <tr>\n",
       "      <th>0</th>\n",
       "      <td>3</td>\n",
       "      <td>0.4452</td>\n",
       "      <td>0.5711</td>\n",
       "    </tr>\n",
       "    <tr>\n",
       "      <th>1</th>\n",
       "      <td>5</td>\n",
       "      <td>0.4960</td>\n",
       "      <td>0.5544</td>\n",
       "    </tr>\n",
       "    <tr>\n",
       "      <th>2</th>\n",
       "      <td>7</td>\n",
       "      <td>0.3841</td>\n",
       "      <td>0.5854</td>\n",
       "    </tr>\n",
       "    <tr>\n",
       "      <th>3</th>\n",
       "      <td>10</td>\n",
       "      <td>0.4402</td>\n",
       "      <td>0.5353</td>\n",
       "    </tr>\n",
       "    <tr>\n",
       "      <th>4</th>\n",
       "      <td>12</td>\n",
       "      <td>0.3029</td>\n",
       "      <td>0.5551</td>\n",
       "    </tr>\n",
       "    <tr>\n",
       "      <th>5</th>\n",
       "      <td>15</td>\n",
       "      <td>0.2806</td>\n",
       "      <td>0.5239</td>\n",
       "    </tr>\n",
       "    <tr>\n",
       "      <th>6</th>\n",
       "      <td>18</td>\n",
       "      <td>0.2806</td>\n",
       "      <td>0.5239</td>\n",
       "    </tr>\n",
       "  </tbody>\n",
       "</table>\n",
       "</div>"
      ],
      "text/plain": [
       "    K  Inter Cluster Density  Intra Cluster Density\n",
       "0   3                 0.4452                 0.5711\n",
       "1   5                 0.4960                 0.5544\n",
       "2   7                 0.3841                 0.5854\n",
       "3  10                 0.4402                 0.5353\n",
       "4  12                 0.3029                 0.5551\n",
       "5  15                 0.2806                 0.5239\n",
       "6  18                 0.2806                 0.5239"
      ]
     },
     "execution_count": 11,
     "metadata": {},
     "output_type": "execute_result"
    }
   ],
   "source": [
    "import pandas as pd\n",
    "\n",
    "cosine = pd.DataFrame(list(zip(k,Inter_Cluster_Density, Intra_Cluster_Density)), \n",
    "                      columns =['K','Inter Cluster Density', 'Intra Cluster Density'])\n",
    "\n",
    "cosine"
   ]
  },
  {
   "cell_type": "code",
   "execution_count": 12,
   "id": "5ded8e75",
   "metadata": {},
   "outputs": [
    {
     "data": {
      "image/png": "[encoded data removed]",
      "text/plain": [
       "<Figure size 720x360 with 1 Axes>"
      ]
     },
     "metadata": {
      "needs_background": "light"
     },
     "output_type": "display_data"
    }
   ],
   "source": [
    "import matplotlib.pyplot as plt\n",
    "\n",
    "cosine.plot(x='K', y=['Inter Cluster Density', 'Intra Cluster Density'], figsize=(10,5), grid=True)\n",
    "\n",
    "plt.title(\"Cosine Distance Measure\")\n",
    "plt.show()\n"
   ]
  },
  {
   "cell_type": "markdown",
   "id": "9f0e84f8",
   "metadata": {},
   "source": [
    "#### Output Euclidean Distance"
   ]
  },
  {
   "cell_type": "code",
   "execution_count": 13,
   "id": "b57bd166",
   "metadata": {},
   "outputs": [],
   "source": [
    "k = [3,5,7,10,12,15,18]\n",
    "\n",
    "Inter_Cluster_Density = [0.44235517474526337, 0.43561763349095555, 0.4845228365262356, 0.4892239530039184, 0.4527599563499537, 0.35054530260649825, 0.33154761269679123]\n",
    "Intra_Cluster_Density = [0.5891069114004185, 0.5768438483444104, 0.609261366893357, 0.5290949105069825, 0.5568836784456709, 0.5259668105185436, 0.4897441022857345]\n",
    "\n"
   ]
  },
  {
   "cell_type": "code",
   "execution_count": 14,
   "id": "a188db96",
   "metadata": {},
   "outputs": [
    {
     "name": "stdout",
     "output_type": "stream",
     "text": [
      "[0.4424, 0.4356, 0.4845, 0.4892, 0.4528, 0.3505, 0.3315]\n",
      "[0.5891, 0.5768, 0.6093, 0.5291, 0.5569, 0.526, 0.4897]\n"
     ]
    }
   ],
   "source": [
    "Inter_Cluster_Density  = [round(num,4) for num in Inter_Cluster_Density]\n",
    "\n",
    "Intra_Cluster_Density  = [round(num,4) for num in Intra_Cluster_Density]\n",
    "\n",
    "print(Inter_Cluster_Density)\n",
    "print(Intra_Cluster_Density)"
   ]
  },
  {
   "cell_type": "code",
   "execution_count": 15,
   "id": "7a6f7dd1",
   "metadata": {},
   "outputs": [
    {
     "data": {
      "text/html": [
       "<div>\n",
       "<style scoped>\n",
       "    .dataframe tbody tr th:only-of-type {\n",
       "        vertical-align: middle;\n",
       "    }\n",
       "\n",
       "    .dataframe tbody tr th {\n",
       "        vertical-align: top;\n",
       "    }\n",
       "\n",
       "    .dataframe thead th {\n",
       "        text-align: right;\n",
       "    }\n",
       "</style>\n",
       "<table border=\"1\" class=\"dataframe\">\n",
       "  <thead>\n",
       "    <tr style=\"text-align: right;\">\n",
       "      <th></th>\n",
       "      <th>K</th>\n",
       "      <th>Inter Cluster Density</th>\n",
       "      <th>Intra Cluster Density</th>\n",
       "    </tr>\n",
       "  </thead>\n",
       "  <tbody>\n",
       "    <tr>\n",
       "      <th>0</th>\n",
       "      <td>3</td>\n",
       "      <td>0.4424</td>\n",
       "      <td>0.5891</td>\n",
       "    </tr>\n",
       "    <tr>\n",
       "      <th>1</th>\n",
       "      <td>5</td>\n",
       "      <td>0.4356</td>\n",
       "      <td>0.5768</td>\n",
       "    </tr>\n",
       "    <tr>\n",
       "      <th>2</th>\n",
       "      <td>7</td>\n",
       "      <td>0.4845</td>\n",
       "      <td>0.6093</td>\n",
       "    </tr>\n",
       "    <tr>\n",
       "      <th>3</th>\n",
       "      <td>10</td>\n",
       "      <td>0.4892</td>\n",
       "      <td>0.5291</td>\n",
       "    </tr>\n",
       "    <tr>\n",
       "      <th>4</th>\n",
       "      <td>12</td>\n",
       "      <td>0.4528</td>\n",
       "      <td>0.5569</td>\n",
       "    </tr>\n",
       "    <tr>\n",
       "      <th>5</th>\n",
       "      <td>15</td>\n",
       "      <td>0.3505</td>\n",
       "      <td>0.5260</td>\n",
       "    </tr>\n",
       "    <tr>\n",
       "      <th>6</th>\n",
       "      <td>18</td>\n",
       "      <td>0.3315</td>\n",
       "      <td>0.4897</td>\n",
       "    </tr>\n",
       "  </tbody>\n",
       "</table>\n",
       "</div>"
      ],
      "text/plain": [
       "    K  Inter Cluster Density  Intra Cluster Density\n",
       "0   3                 0.4424                 0.5891\n",
       "1   5                 0.4356                 0.5768\n",
       "2   7                 0.4845                 0.6093\n",
       "3  10                 0.4892                 0.5291\n",
       "4  12                 0.4528                 0.5569\n",
       "5  15                 0.3505                 0.5260\n",
       "6  18                 0.3315                 0.4897"
      ]
     },
     "execution_count": 15,
     "metadata": {},
     "output_type": "execute_result"
    }
   ],
   "source": [
    "euclidean = pd.DataFrame(list(zip(k,Inter_Cluster_Density, Intra_Cluster_Density)), \n",
    "                      columns =['K','Inter Cluster Density', 'Intra Cluster Density'])\n",
    "\n",
    "euclidean "
   ]
  },
  {
   "cell_type": "code",
   "execution_count": 16,
   "id": "7111ddd8",
   "metadata": {},
   "outputs": [
    {
     "data": {
      "image/png": "[encoded data removed]",
      "text/plain": [
       "<Figure size 720x360 with 1 Axes>"
      ]
     },
     "metadata": {
      "needs_background": "light"
     },
     "output_type": "display_data"
    }
   ],
   "source": [
    "euclidean.plot(x='K', y=['Inter Cluster Density', 'Intra Cluster Density'], figsize=(10,5), grid=True)\n",
    "\n",
    "plt.title(\"Euclidean Distance Measure\")\n",
    "plt.show()"
   ]
  },
  {
   "cell_type": "markdown",
   "id": "b5ffbcda",
   "metadata": {},
   "source": [
    "### Analysis of the two graphs and distance measures"
   ]
  },
  {
   "cell_type": "markdown",
   "id": "d14b8bf4",
   "metadata": {},
   "source": [
    "We can see that both graphs present curves with fluctuations, especially between K values between 3 and 10. However, we can also see that for both distance measures, 10 seems the appropriate number of clusters because adding another cluster does not seem to improve much  the partition. Additonally, for k=10, we have relatively good inter and intra cluster densities values, 0.4402 and 0.5353 for cosine distance and 0.4892 and 0.5291 for euclidean distance, respectively. We can also say that k<10 may be too few presenting in general numerous long distances from points to the centroid, and k>10 maybe be too many, resulting in little improvements in average distance. \n",
    "\n",
    "Because cosine distance considers the angle between vectors rather than their weight or magnitude, it is commonly employed as a metric for calculating distance when the magnitude of the vectors is irrelevant. When working with text data represented by word counts, for example, this can happen. Euclidean distance is the length of a line segment between the two points. The distance between any two points is not influenced by the addition of new objects to the study, which may be outliers, which is one advantage of this method.\n",
    "\n",
    "To summarise, Cosine measure distance and 10 as the number of clusters appear to be the best solution for all of the reasons stated above.\n"
   ]
  },
  {
   "cell_type": "markdown",
   "id": "41f839a3",
   "metadata": {},
   "source": [
    "### Limitations of MapReduce methodology and Hadoop’s MapReduce computing engine"
   ]
  },
  {
   "cell_type": "markdown",
   "id": "36484caa",
   "metadata": {},
   "source": [
    "Because MapReduce is mainly meant for batch processing jobs, interactive jobs and models are impossible to implement. Furthermore, jobs that are interdependent cannot be parallelized, which is not achievable with MapReduce.  It  struggles to tackle problems that aren't easily recombinable.\n",
    "\n",
    "The MapReduce framework in Hadoop reads and writes data to and from disc. The data is read from and written to the disc at each stage of the processing process. Because disc seeks require time, the entire operation takes a long time. Hadoop is relatively slow for processing tiny amounts of data. Large data sets are suitable for it. Hadoop's performance for real-time processing is limited due to the batch processing engine at its core. Hadoop's Map-Reduce framework is incapable of handling real-time data. Hadoop works in batches to process data. The user must first load the file into HDFS. The user then does a map-reduce operation using the file as input."
   ]
  },
  {
   "cell_type": "markdown",
   "id": "8482bce5",
   "metadata": {},
   "source": [
    "## References"
   ]
  },
  {
   "cell_type": "markdown",
   "id": "6f2b3d6e",
   "metadata": {},
   "source": [
    "- A Statistical Density-Based Analysis of Graph Clustering Algorithm Performance - https://arxiv.org/pdf/1906.02366.pdf\n",
    "\n",
    "- MapReduce Algorithms for k-means Clustering https://stanford.edu/~rezab/classes/cme323/S16/projects_reports/bodoia.pdf\n",
    "\n",
    "- K-Means clustering on MapReduce - https://web2.qatar.cmu.edu/~mhhammou/15440-f19/recitations/Project4_Handout.pdf\n",
    "\n",
    "- Elbow Method for optimal value of k in KMeans - https://www.geeksforgeeks.org/elbow-method-for-optimal-value-of-k-in-kmeans/\n",
    "\n",
    "- Hadoop – Pros and Cons - https://www.geeksforgeeks.org/hadoop-pros-and-cons/"
   ]
  }
 ],
 "metadata": {
  "kernelspec": {
   "display_name": "Python 3 (ipykernel)",
   "language": "python",
   "name": "python3"
  },
  "language_info": {
   "codemirror_mode": {
    "name": "ipython",
    "version": 3
   },
   "file_extension": ".py",
   "mimetype": "text/x-python",
   "name": "python",
   "nbconvert_exporter": "python",
   "pygments_lexer": "ipython3",
   "version": "3.9.7"
  }
 },
 "nbformat": 4,
 "nbformat_minor": 5
}
